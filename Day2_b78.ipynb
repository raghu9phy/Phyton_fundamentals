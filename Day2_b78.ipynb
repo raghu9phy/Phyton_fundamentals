{
 "cells": [
  {
   "cell_type": "code",
   "execution_count": null,
   "id": "73b4a994",
   "metadata": {},
   "outputs": [],
   "source": [
    "introduction to python programming:"
   ]
  },
  {
   "cell_type": "code",
   "execution_count": null,
   "id": "3dac539f",
   "metadata": {},
   "outputs": [],
   "source": [
    "Understanding the variable in python"
   ]
  },
  {
   "cell_type": "code",
   "execution_count": 5,
   "id": "4b9432bb",
   "metadata": {},
   "outputs": [],
   "source": [
    "x=3\n",
    "y=2"
   ]
  },
  {
   "cell_type": "code",
   "execution_count": 6,
   "id": "34b58267",
   "metadata": {},
   "outputs": [
    {
     "name": "stdout",
     "output_type": "stream",
     "text": [
      "5\n"
     ]
    }
   ],
   "source": [
    "z = x+y\n",
    "print(z)\n"
   ]
  },
  {
   "cell_type": "code",
   "execution_count": 7,
   "id": "9375bd57",
   "metadata": {},
   "outputs": [
    {
     "ename": "SyntaxError",
     "evalue": "invalid syntax (1197728394.py, line 1)",
     "output_type": "error",
     "traceback": [
      "\u001b[1;36m  Cell \u001b[1;32mIn[7], line 1\u001b[1;36m\u001b[0m\n\u001b[1;33m    rule no 1: No name spaces while declaring the variable name\u001b[0m\n\u001b[1;37m         ^\u001b[0m\n\u001b[1;31mSyntaxError\u001b[0m\u001b[1;31m:\u001b[0m invalid syntax\n"
     ]
    }
   ],
   "source": [
    "rule no 1: No name spaces while declaring the variable name"
   ]
  },
  {
   "cell_type": "code",
   "execution_count": 8,
   "id": "cd26d38e",
   "metadata": {},
   "outputs": [],
   "source": [
    "firstname=\"raghu\""
   ]
  },
  {
   "cell_type": "code",
   "execution_count": 9,
   "id": "09b5d870",
   "metadata": {},
   "outputs": [
    {
     "name": "stdout",
     "output_type": "stream",
     "text": [
      "raghu\n"
     ]
    }
   ],
   "source": [
    "print(firstname)"
   ]
  },
  {
   "cell_type": "code",
   "execution_count": null,
   "id": "d2595138",
   "metadata": {},
   "outputs": [],
   "source": [
    "Rule No 2: A variabe name should not start with a number"
   ]
  },
  {
   "cell_type": "code",
   "execution_count": 10,
   "id": "35a39870",
   "metadata": {},
   "outputs": [
    {
     "ename": "SyntaxError",
     "evalue": "invalid decimal literal (1580340236.py, line 1)",
     "output_type": "error",
     "traceback": [
      "\u001b[1;36m  Cell \u001b[1;32mIn[10], line 1\u001b[1;36m\u001b[0m\n\u001b[1;33m    1name='james'\u001b[0m\n\u001b[1;37m    ^\u001b[0m\n\u001b[1;31mSyntaxError\u001b[0m\u001b[1;31m:\u001b[0m invalid decimal literal\n"
     ]
    }
   ],
   "source": [
    "1name='james'\n",
    "\n"
   ]
  },
  {
   "cell_type": "code",
   "execution_count": 14,
   "id": "8ea5658e",
   "metadata": {},
   "outputs": [],
   "source": [
    "name1='james'"
   ]
  },
  {
   "cell_type": "code",
   "execution_count": 15,
   "id": "e07a83b7",
   "metadata": {},
   "outputs": [
    {
     "name": "stdout",
     "output_type": "stream",
     "text": [
      "james\n"
     ]
    }
   ],
   "source": [
    "print(name1)"
   ]
  },
  {
   "cell_type": "code",
   "execution_count": 16,
   "id": "c800b70e",
   "metadata": {},
   "outputs": [
    {
     "ename": "SyntaxError",
     "evalue": "invalid syntax (4105391284.py, line 1)",
     "output_type": "error",
     "traceback": [
      "\u001b[1;36m  Cell \u001b[1;32mIn[16], line 1\u001b[1;36m\u001b[0m\n\u001b[1;33m    Rule no 2: A variable bame should not start with a number**\u001b[0m\n\u001b[1;37m         ^\u001b[0m\n\u001b[1;31mSyntaxError\u001b[0m\u001b[1;31m:\u001b[0m invalid syntax\n"
     ]
    }
   ],
   "source": [
    "Rule no 2: A variable bame should not start with a number**"
   ]
  },
  {
   "cell_type": "code",
   "execution_count": 17,
   "id": "688c59a9",
   "metadata": {},
   "outputs": [
    {
     "ename": "SyntaxError",
     "evalue": "invalid syntax (2029915407.py, line 1)",
     "output_type": "error",
     "traceback": [
      "\u001b[1;36m  Cell \u001b[1;32mIn[17], line 1\u001b[1;36m\u001b[0m\n\u001b[1;33m    Rule no3: A variable name should not contain any special charcter @$%*\u001b[0m\n\u001b[1;37m         ^\u001b[0m\n\u001b[1;31mSyntaxError\u001b[0m\u001b[1;31m:\u001b[0m invalid syntax\n"
     ]
    }
   ],
   "source": [
    "Rule no3: A variable name should not contain any special charcter @$%*\n",
    "    "
   ]
  },
  {
   "cell_type": "code",
   "execution_count": 43,
   "id": "6d053b99",
   "metadata": {},
   "outputs": [],
   "source": [
    "test='raghu'"
   ]
  },
  {
   "cell_type": "code",
   "execution_count": 44,
   "id": "20cb305c",
   "metadata": {},
   "outputs": [
    {
     "name": "stdout",
     "output_type": "stream",
     "text": [
      "raghu\n"
     ]
    }
   ],
   "source": [
    "print(test)\n",
    "\n"
   ]
  },
  {
   "cell_type": "code",
   "execution_count": 45,
   "id": "1fd2b4a5",
   "metadata": {},
   "outputs": [],
   "source": [
    "#Intraduction to data types in phyton "
   ]
  },
  {
   "cell_type": "code",
   "execution_count": 21,
   "id": "c58de974",
   "metadata": {},
   "outputs": [
    {
     "ename": "SyntaxError",
     "evalue": "invalid decimal literal (3259396720.py, line 2)",
     "output_type": "error",
     "traceback": [
      "\u001b[1;36m  Cell \u001b[1;32mIn[21], line 2\u001b[1;36m\u001b[0m\n\u001b[1;33m    2.Numbers-----------  Integerrs------int and Decimal--------float(0.1.0.2)\u001b[0m\n\u001b[1;37m     ^\u001b[0m\n\u001b[1;31mSyntaxError\u001b[0m\u001b[1;31m:\u001b[0m invalid decimal literal\n"
     ]
    }
   ],
   "source": [
    "1. strings-------------str\n",
    "2.Numbers-----------  Integerrs------int and Decimal--------float(0.1.0.2)\n",
    "3.List---------- list\n",
    "4. Tuples---------tuple\n",
    "5. dictionaries----------------dict\n"
   ]
  },
  {
   "cell_type": "code",
   "execution_count": 22,
   "id": "d4de18c0",
   "metadata": {},
   "outputs": [
    {
     "ename": "SyntaxError",
     "evalue": "invalid syntax (878258792.py, line 1)",
     "output_type": "error",
     "traceback": [
      "\u001b[1;36m  Cell \u001b[1;32mIn[22], line 1\u001b[1;36m\u001b[0m\n\u001b[1;33m    classfication of data types\u001b[0m\n\u001b[1;37m                  ^\u001b[0m\n\u001b[1;31mSyntaxError\u001b[0m\u001b[1;31m:\u001b[0m invalid syntax\n"
     ]
    }
   ],
   "source": [
    "classfication of data types\n",
    "\n",
    "two types\n",
    "1. mutable datatypes--------------which we can edit and alter------flexible in nature\n",
    "2. immutable datatypes-------------which we cannot be able to edit and alter----fixed in nature\n"
   ]
  },
  {
   "cell_type": "code",
   "execution_count": null,
   "id": "4c1566b1",
   "metadata": {},
   "outputs": [],
   "source": [
    "Intraduction to string data types in phyton :\n",
    "    \n",
    "    defination : A string is a series of charvetrs declared in quotes.\n",
    "        classfication: is is classfied as an immutable datatype\n",
    "how to create a string-----------single quote or double quote\n"
   ]
  },
  {
   "cell_type": "code",
   "execution_count": 23,
   "id": "93ad3352",
   "metadata": {},
   "outputs": [
    {
     "name": "stdout",
     "output_type": "stream",
     "text": [
      "raghu\n"
     ]
    }
   ],
   "source": [
    "name='raghu' #single quote\n",
    "print(name)"
   ]
  },
  {
   "cell_type": "code",
   "execution_count": 24,
   "id": "1615acfb",
   "metadata": {},
   "outputs": [
    {
     "name": "stdout",
     "output_type": "stream",
     "text": [
      "reddyraghu\n"
     ]
    }
   ],
   "source": [
    "name1=\"reddyraghu\"  #double quote\n",
    "print(name1)"
   ]
  },
  {
   "cell_type": "code",
   "execution_count": 48,
   "id": "c4b643b6",
   "metadata": {},
   "outputs": [
    {
     "ename": "IndentationError",
     "evalue": "unexpected indent (527153235.py, line 2)",
     "output_type": "error",
     "traceback": [
      "\u001b[1;36m  Cell \u001b[1;32mIn[48], line 2\u001b[1;36m\u001b[0m\n\u001b[1;33m    type(name)\u001b[0m\n\u001b[1;37m    ^\u001b[0m\n\u001b[1;31mIndentationError\u001b[0m\u001b[1;31m:\u001b[0m unexpected indent\n"
     ]
    }
   ],
   "source": [
    "#Intraduction to string methods:\n",
    " type(name)"
   ]
  },
  {
   "cell_type": "code",
   "execution_count": 35,
   "id": "d627c079",
   "metadata": {},
   "outputs": [
    {
     "name": "stdout",
     "output_type": "stream",
     "text": [
      "raghunadhareddy\n"
     ]
    }
   ],
   "source": [
    "fullname=\"raghunadhareddy\"\n",
    "print(fullname)"
   ]
  },
  {
   "cell_type": "code",
   "execution_count": 51,
   "id": "9378ff76",
   "metadata": {},
   "outputs": [
    {
     "ename": "NameError",
     "evalue": "name 'title' is not defined",
     "output_type": "error",
     "traceback": [
      "\u001b[1;31m---------------------------------------------------------------------------\u001b[0m",
      "\u001b[1;31mNameError\u001b[0m                                 Traceback (most recent call last)",
      "Cell \u001b[1;32mIn[51], line 1\u001b[0m\n\u001b[1;32m----> 1\u001b[0m \u001b[38;5;28mprint\u001b[39m(fullname,\u001b[43mtitle\u001b[49m())\n",
      "\u001b[1;31mNameError\u001b[0m: name 'title' is not defined"
     ]
    }
   ],
   "source": [
    "print(fullname,title())"
   ]
  },
  {
   "cell_type": "code",
   "execution_count": 39,
   "id": "e207ffdd",
   "metadata": {},
   "outputs": [
    {
     "ename": "NameError",
     "evalue": "name 'upper' is not defined",
     "output_type": "error",
     "traceback": [
      "\u001b[1;31m---------------------------------------------------------------------------\u001b[0m",
      "\u001b[1;31mNameError\u001b[0m                                 Traceback (most recent call last)",
      "Cell \u001b[1;32mIn[39], line 2\u001b[0m\n\u001b[0;32m      1\u001b[0m fullname\u001b[38;5;241m=\u001b[39m\u001b[38;5;124m\"\u001b[39m\u001b[38;5;124mraghunadhareddy\u001b[39m\u001b[38;5;124m\"\u001b[39m\n\u001b[1;32m----> 2\u001b[0m \u001b[38;5;28mprint\u001b[39m(fullname,\u001b[43mupper\u001b[49m())\n",
      "\u001b[1;31mNameError\u001b[0m: name 'upper' is not defined"
     ]
    }
   ],
   "source": [
    "fullname=\"raghunadhareddy\"\n",
    "up=fullname,upper())"
   ]
  },
  {
   "cell_type": "code",
   "execution_count": 40,
   "id": "2e23ca35",
   "metadata": {},
   "outputs": [
    {
     "ename": "NameError",
     "evalue": "name 'lower' is not defined",
     "output_type": "error",
     "traceback": [
      "\u001b[1;31m---------------------------------------------------------------------------\u001b[0m",
      "\u001b[1;31mNameError\u001b[0m                                 Traceback (most recent call last)",
      "Cell \u001b[1;32mIn[40], line 1\u001b[0m\n\u001b[1;32m----> 1\u001b[0m \u001b[38;5;28mprint\u001b[39m(fullname,\u001b[43mlower\u001b[49m())\n",
      "\u001b[1;31mNameError\u001b[0m: name 'lower' is not defined"
     ]
    }
   ],
   "source": [
    "print(fullname,lower())"
   ]
  },
  {
   "cell_type": "code",
   "execution_count": 41,
   "id": "738be12a",
   "metadata": {},
   "outputs": [],
   "source": [
    "#commenting the code\n",
    "\n",
    "# is used for commenting the code."
   ]
  },
  {
   "cell_type": "code",
   "execution_count": null,
   "id": "a926aee2",
   "metadata": {},
   "outputs": [],
   "source": []
  },
  {
   "cell_type": "code",
   "execution_count": null,
   "id": "dd18b41a",
   "metadata": {},
   "outputs": [],
   "source": []
  }
 ],
 "metadata": {
  "kernelspec": {
   "display_name": "Python 3 (ipykernel)",
   "language": "python",
   "name": "python3"
  },
  "language_info": {
   "codemirror_mode": {
    "name": "ipython",
    "version": 3
   },
   "file_extension": ".py",
   "mimetype": "text/x-python",
   "name": "python",
   "nbconvert_exporter": "python",
   "pygments_lexer": "ipython3",
   "version": "3.10.9"
  }
 },
 "nbformat": 4,
 "nbformat_minor": 5
}
