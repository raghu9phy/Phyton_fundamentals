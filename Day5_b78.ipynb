{
 "cells": [
  {
   "cell_type": "code",
   "execution_count": null,
   "id": "435f6ce0",
   "metadata": {},
   "outputs": [],
   "source": [
    "Intraduction to list datatype"
   ]
  },
  {
   "cell_type": "code",
   "execution_count": null,
   "id": "c4556fd2",
   "metadata": {},
   "outputs": [],
   "source": [
    "defination: Alist is a collection of items declared in a particular order\n",
    "    classfication: it is classfied as an mutable datatype\n",
    "        \n",
    "        how to define /declare the list.............?[]"
   ]
  },
  {
   "cell_type": "code",
   "execution_count": null,
   "id": "7f50d826",
   "metadata": {},
   "outputs": [],
   "source": []
  },
  {
   "cell_type": "code",
   "execution_count": 4,
   "id": "d4de879d",
   "metadata": {},
   "outputs": [],
   "source": [
    "Students=['raghu','nivedhitha']"
   ]
  },
  {
   "cell_type": "code",
   "execution_count": 5,
   "id": "c258a87c",
   "metadata": {},
   "outputs": [
    {
     "name": "stdout",
     "output_type": "stream",
     "text": [
      "['raghu', 'nivedhitha']\n"
     ]
    }
   ],
   "source": [
    "print(Students)"
   ]
  },
  {
   "cell_type": "code",
   "execution_count": 7,
   "id": "e360998a",
   "metadata": {},
   "outputs": [
    {
     "data": {
      "text/plain": [
       "list"
      ]
     },
     "execution_count": 7,
     "metadata": {},
     "output_type": "execute_result"
    }
   ],
   "source": [
    "type(Students)"
   ]
  },
  {
   "cell_type": "markdown",
   "id": "91c3c3c2",
   "metadata": {},
   "source": []
  },
  {
   "cell_type": "code",
   "execution_count": null,
   "id": "40dee651",
   "metadata": {},
   "outputs": [],
   "source": [
    "intraduction to indexing:0,1,2,3,3...................."
   ]
  },
  {
   "cell_type": "code",
   "execution_count": null,
   "id": "fe50e9a6",
   "metadata": {},
   "outputs": [],
   "source": [
    "#req i want to get the name is niveditha on the output........?"
   ]
  },
  {
   "cell_type": "code",
   "execution_count": 15,
   "id": "e705f8bb",
   "metadata": {},
   "outputs": [
    {
     "name": "stdout",
     "output_type": "stream",
     "text": [
      "nivedhitha\n",
      "Nivedhitha\n"
     ]
    }
   ],
   "source": [
    "print(Students[1])\n",
    "print(Students[1].title())"
   ]
  },
  {
   "cell_type": "code",
   "execution_count": 19,
   "id": "dcc7be0f",
   "metadata": {},
   "outputs": [
    {
     "ename": "SyntaxError",
     "evalue": "unexpected character after line continuation character (1985808280.py, line 1)",
     "output_type": "error",
     "traceback": [
      "\u001b[1;36m  Cell \u001b[1;32mIn[19], line 1\u001b[1;36m\u001b[0m\n\u001b[1;33m    print(Students[1].upper()\\nStudents[2].upper())\u001b[0m\n\u001b[1;37m                              ^\u001b[0m\n\u001b[1;31mSyntaxError\u001b[0m\u001b[1;31m:\u001b[0m unexpected character after line continuation character\n"
     ]
    }
   ],
   "source": [
    "print(Students[1].upper()\\nStudents[2].upper())"
   ]
  },
  {
   "cell_type": "code",
   "execution_count": null,
   "id": "7bc433a6",
   "metadata": {},
   "outputs": [],
   "source": [
    "1. how to add new elements to the list\n",
    "2.how to modify the elements in the list\n",
    "3.how to delete the elements in the list"
   ]
  },
  {
   "cell_type": "code",
   "execution_count": null,
   "id": "ad31b4bc",
   "metadata": {},
   "outputs": [],
   "source": [
    "# i want to add prany to the above list"
   ]
  },
  {
   "cell_type": "code",
   "execution_count": 20,
   "id": "c205a5eb",
   "metadata": {},
   "outputs": [],
   "source": [
    "Students.append('supraja')"
   ]
  },
  {
   "cell_type": "code",
   "execution_count": 21,
   "id": "627f7764",
   "metadata": {},
   "outputs": [
    {
     "name": "stdout",
     "output_type": "stream",
     "text": [
      "['raghu', 'nivedhitha', 'supraja']\n"
     ]
    }
   ],
   "source": [
    "print(Students)"
   ]
  },
  {
   "cell_type": "code",
   "execution_count": null,
   "id": "7651e4fc",
   "metadata": {},
   "outputs": [],
   "source": [
    "# add monoj to list"
   ]
  },
  {
   "cell_type": "code",
   "execution_count": 22,
   "id": "d6ea8a3d",
   "metadata": {},
   "outputs": [],
   "source": [
    "Students.append('Eesha')"
   ]
  },
  {
   "cell_type": "code",
   "execution_count": 32,
   "id": "9b7a413d",
   "metadata": {},
   "outputs": [
    {
     "name": "stdout",
     "output_type": "stream",
     "text": [
      "['raghu', 'nivedhitha', 'papa', 'supraja', 'Eesha']\n"
     ]
    }
   ],
   "source": [
    "print(Students)"
   ]
  },
  {
   "cell_type": "code",
   "execution_count": null,
   "id": "47ae7b06",
   "metadata": {},
   "outputs": [],
   "source": [
    "# want to add papa to 2nd index"
   ]
  },
  {
   "cell_type": "code",
   "execution_count": 31,
   "id": "c8bbdb44",
   "metadata": {},
   "outputs": [],
   "source": [
    "Students.insert(2,'papa')"
   ]
  },
  {
   "cell_type": "code",
   "execution_count": null,
   "id": "8256a159",
   "metadata": {},
   "outputs": [],
   "source": [
    "# interview question"
   ]
  },
  {
   "cell_type": "code",
   "execution_count": null,
   "id": "69c8311b",
   "metadata": {},
   "outputs": [],
   "source": [
    "#what is difference between append and insert in the list"
   ]
  },
  {
   "cell_type": "code",
   "execution_count": null,
   "id": "f83a2112",
   "metadata": {},
   "outputs": [],
   "source": [
    "# how to modify the element in the list"
   ]
  },
  {
   "cell_type": "code",
   "execution_count": null,
   "id": "635eb1c6",
   "metadata": {},
   "outputs": [],
   "source": [
    "#req i want to modify praveen name to mummy"
   ]
  },
  {
   "cell_type": "code",
   "execution_count": 52,
   "id": "140ecbf6",
   "metadata": {},
   "outputs": [
    {
     "ename": "IndexError",
     "evalue": "list assignment index out of range",
     "output_type": "error",
     "traceback": [
      "\u001b[1;31m---------------------------------------------------------------------------\u001b[0m",
      "\u001b[1;31mIndexError\u001b[0m                                Traceback (most recent call last)",
      "Cell \u001b[1;32mIn[52], line 1\u001b[0m\n\u001b[1;32m----> 1\u001b[0m Students[\u001b[38;5;241m3\u001b[39m]\u001b[38;5;241m=\u001b[39m\u001b[38;5;124m'\u001b[39m\u001b[38;5;124mpapa\u001b[39m\u001b[38;5;124m'\u001b[39m\n",
      "\u001b[1;31mIndexError\u001b[0m: list assignment index out of range"
     ]
    }
   ],
   "source": [
    "Students[3]='papa'"
   ]
  },
  {
   "cell_type": "code",
   "execution_count": 42,
   "id": "24161207",
   "metadata": {},
   "outputs": [
    {
     "name": "stdout",
     "output_type": "stream",
     "text": [
      "['raghu', 'mummy', 'papa', 'supraja', 'Eesha']\n"
     ]
    }
   ],
   "source": [
    "print(Students)"
   ]
  },
  {
   "cell_type": "code",
   "execution_count": 43,
   "id": "95a13ebd",
   "metadata": {},
   "outputs": [
    {
     "name": "stdout",
     "output_type": "stream",
     "text": [
      "['raghu', 'mummy', 'papa', 'supraja', 'Eesha']\n"
     ]
    }
   ],
   "source": [
    "print(Students)"
   ]
  },
  {
   "cell_type": "code",
   "execution_count": null,
   "id": "1f9511d4",
   "metadata": {},
   "outputs": [],
   "source": [
    "1.Temporary deleting-----------------------pop\n",
    "note : by default pop will be deleteing the item frm last, if needed we can specify the index as well, pop will be storing the deleted items in the variabled that has been assigned to it\n",
    "    "
   ]
  },
  {
   "cell_type": "code",
   "execution_count": 44,
   "id": "4a6af035",
   "metadata": {},
   "outputs": [],
   "source": [
    "x=Students.pop()"
   ]
  },
  {
   "cell_type": "code",
   "execution_count": 47,
   "id": "19423ec7",
   "metadata": {},
   "outputs": [
    {
     "name": "stdout",
     "output_type": "stream",
     "text": [
      "['Eesha', 'mummy', 'papa', 'supraja']\n"
     ]
    }
   ],
   "source": [
    "print(Students)"
   ]
  },
  {
   "cell_type": "code",
   "execution_count": 48,
   "id": "38cc12e7",
   "metadata": {},
   "outputs": [
    {
     "name": "stdout",
     "output_type": "stream",
     "text": [
      "Eesha\n"
     ]
    }
   ],
   "source": [
    "print(x)"
   ]
  },
  {
   "cell_type": "code",
   "execution_count": null,
   "id": "61be90c4",
   "metadata": {},
   "outputs": [],
   "source": [
    "#req: delete to john"
   ]
  },
  {
   "cell_type": "code",
   "execution_count": 50,
   "id": "8b9889ac",
   "metadata": {},
   "outputs": [],
   "source": [
    "y=Students.pop(2)"
   ]
  },
  {
   "cell_type": "code",
   "execution_count": 53,
   "id": "08c68f44",
   "metadata": {},
   "outputs": [
    {
     "name": "stdout",
     "output_type": "stream",
     "text": [
      "['Eesha', 'mummy', 'supraja']\n"
     ]
    }
   ],
   "source": [
    "print(Students)"
   ]
  },
  {
   "cell_type": "code",
   "execution_count": 54,
   "id": "19f46b67",
   "metadata": {},
   "outputs": [
    {
     "name": "stdout",
     "output_type": "stream",
     "text": [
      "papa\n"
     ]
    }
   ],
   "source": [
    "print(y)"
   ]
  },
  {
   "cell_type": "code",
   "execution_count": null,
   "id": "37a2dbb1",
   "metadata": {},
   "outputs": [],
   "source": [
    "# permanent delete"
   ]
  },
  {
   "cell_type": "code",
   "execution_count": 56,
   "id": "698b2248",
   "metadata": {},
   "outputs": [],
   "source": [
    "del Students[0]"
   ]
  },
  {
   "cell_type": "code",
   "execution_count": 57,
   "id": "08404f95",
   "metadata": {},
   "outputs": [
    {
     "name": "stdout",
     "output_type": "stream",
     "text": [
      "['mummy', 'supraja']\n"
     ]
    }
   ],
   "source": [
    "print(Students)"
   ]
  },
  {
   "cell_type": "code",
   "execution_count": null,
   "id": "776296e0",
   "metadata": {},
   "outputs": [],
   "source": [
    "what is the diff btw pop and delete methods in a list............."
   ]
  },
  {
   "cell_type": "code",
   "execution_count": null,
   "id": "87697440",
   "metadata": {},
   "outputs": [],
   "source": []
  },
  {
   "cell_type": "code",
   "execution_count": null,
   "id": "7eccf62a",
   "metadata": {},
   "outputs": [],
   "source": [
    "#Day5"
   ]
  },
  {
   "cell_type": "code",
   "execution_count": null,
   "id": "9f92ad0c",
   "metadata": {},
   "outputs": [],
   "source": [
    "#rganijing list data type"
   ]
  },
  {
   "cell_type": "code",
   "execution_count": 58,
   "id": "ab1fc035",
   "metadata": {},
   "outputs": [],
   "source": [
    "cars=['suzuki','bmw','maruthi','audi','benz','kia']"
   ]
  },
  {
   "cell_type": "code",
   "execution_count": 60,
   "id": "360789e8",
   "metadata": {},
   "outputs": [
    {
     "name": "stdout",
     "output_type": "stream",
     "text": [
      "['suzuki', 'bmw', 'maruthi', 'audi', 'benz', 'kia']\n"
     ]
    }
   ],
   "source": [
    "print(cars)"
   ]
  },
  {
   "cell_type": "code",
   "execution_count": 61,
   "id": "1750df37",
   "metadata": {},
   "outputs": [
    {
     "data": {
      "text/plain": [
       "list"
      ]
     },
     "execution_count": 61,
     "metadata": {},
     "output_type": "execute_result"
    }
   ],
   "source": [
    "type(cars)"
   ]
  },
  {
   "cell_type": "code",
   "execution_count": null,
   "id": "f1c7fd56",
   "metadata": {},
   "outputs": [],
   "source": [
    "# i want the list in alphabitical orders---z"
   ]
  },
  {
   "cell_type": "code",
   "execution_count": null,
   "id": "dae78896",
   "metadata": {},
   "outputs": [],
   "source": [
    "two aproches\n",
    "1. temp aproch---------------sorted---we will be having orginal order of the list declared\n",
    "2.permenant aproch------------sort----------changes are applied permantelly"
   ]
  },
  {
   "cell_type": "code",
   "execution_count": 64,
   "id": "ce213755",
   "metadata": {},
   "outputs": [
    {
     "name": "stdout",
     "output_type": "stream",
     "text": [
      "['audi', 'benz', 'bmw', 'kia', 'maruthi', 'suzuki']\n"
     ]
    }
   ],
   "source": [
    "print(sorted(cars))"
   ]
  },
  {
   "cell_type": "code",
   "execution_count": 66,
   "id": "db82809f",
   "metadata": {},
   "outputs": [],
   "source": [
    "cars.sort()"
   ]
  },
  {
   "cell_type": "code",
   "execution_count": 69,
   "id": "88fa96f4",
   "metadata": {},
   "outputs": [
    {
     "name": "stdout",
     "output_type": "stream",
     "text": [
      "['audi', 'benz', 'bmw', 'kia', 'maruthi', 'suzuki']\n"
     ]
    }
   ],
   "source": [
    "print(cars)"
   ]
  },
  {
   "cell_type": "code",
   "execution_count": null,
   "id": "35a3f8c6",
   "metadata": {},
   "outputs": [],
   "source": [
    "#qq what is difference between sort and sorted in list data type"
   ]
  },
  {
   "cell_type": "code",
   "execution_count": 72,
   "id": "53b80ca0",
   "metadata": {},
   "outputs": [
    {
     "name": "stdout",
     "output_type": "stream",
     "text": [
      "['audi', 'benz', 'bmw', 'kia', 'maruthi', 'suzuki']\n"
     ]
    }
   ],
   "source": [
    "print(cars)\n"
   ]
  },
  {
   "cell_type": "code",
   "execution_count": null,
   "id": "382304ae",
   "metadata": {},
   "outputs": [],
   "source": [
    "# want reverse the order"
   ]
  },
  {
   "cell_type": "code",
   "execution_count": 73,
   "id": "7ab37b01",
   "metadata": {},
   "outputs": [],
   "source": [
    "cars.reverse()"
   ]
  },
  {
   "cell_type": "code",
   "execution_count": 74,
   "id": "24416498",
   "metadata": {},
   "outputs": [
    {
     "name": "stdout",
     "output_type": "stream",
     "text": [
      "['suzuki', 'maruthi', 'kia', 'bmw', 'benz', 'audi']\n"
     ]
    }
   ],
   "source": [
    "print(cars)\n"
   ]
  },
  {
   "cell_type": "code",
   "execution_count": null,
   "id": "47b24b88",
   "metadata": {},
   "outputs": [],
   "source": [
    "# count of elements in the list"
   ]
  },
  {
   "cell_type": "code",
   "execution_count": 75,
   "id": "a57aa1f9",
   "metadata": {},
   "outputs": [
    {
     "data": {
      "text/plain": [
       "6"
      ]
     },
     "execution_count": 75,
     "metadata": {},
     "output_type": "execute_result"
    }
   ],
   "source": [
    "len(cars)"
   ]
  },
  {
   "cell_type": "code",
   "execution_count": null,
   "id": "c0a73b85",
   "metadata": {},
   "outputs": [],
   "source": [
    "# Intraduction to Slicing:"
   ]
  },
  {
   "cell_type": "code",
   "execution_count": 81,
   "id": "00d978a4",
   "metadata": {},
   "outputs": [],
   "source": [
    "students=['king','james','raghu','arun','nasrien','saba','teja']"
   ]
  },
  {
   "cell_type": "code",
   "execution_count": 82,
   "id": "c86cd5f9",
   "metadata": {},
   "outputs": [
    {
     "name": "stdout",
     "output_type": "stream",
     "text": [
      "['king', 'james', 'raghu', 'arun', 'nasrien', 'saba', 'teja']\n"
     ]
    }
   ],
   "source": [
    "print(students)"
   ]
  },
  {
   "cell_type": "code",
   "execution_count": null,
   "id": "b06b23c2",
   "metadata": {},
   "outputs": [],
   "source": [
    "# genral syntax of sliceing"
   ]
  },
  {
   "cell_type": "code",
   "execution_count": null,
   "id": "088341ca",
   "metadata": {},
   "outputs": [],
   "source": [
    "[startvalue:stopvalue:sitecount]"
   ]
  },
  {
   "cell_type": "code",
   "execution_count": null,
   "id": "6096176e",
   "metadata": {},
   "outputs": [],
   "source": [
    "Note: Always last value is exclusive, to include the last value we have to increment the index by +1"
   ]
  },
  {
   "cell_type": "code",
   "execution_count": null,
   "id": "7b26de5b",
   "metadata": {},
   "outputs": [],
   "source": [
    "#req : I want to include king and James"
   ]
  },
  {
   "cell_type": "code",
   "execution_count": 86,
   "id": "76c3a268",
   "metadata": {},
   "outputs": [
    {
     "name": "stdout",
     "output_type": "stream",
     "text": [
      "['king', 'james']\n"
     ]
    }
   ],
   "source": [
    "print(students[0:2])"
   ]
  },
  {
   "cell_type": "code",
   "execution_count": 87,
   "id": "bd9a9ddc",
   "metadata": {},
   "outputs": [
    {
     "name": "stdout",
     "output_type": "stream",
     "text": [
      "['raghu', 'arun']\n"
     ]
    }
   ],
   "source": [
    "print(students[2:4])"
   ]
  },
  {
   "cell_type": "code",
   "execution_count": 89,
   "id": "8e24f7f4",
   "metadata": {},
   "outputs": [
    {
     "name": "stdout",
     "output_type": "stream",
     "text": [
      "['raghu', 'nasrien']\n"
     ]
    }
   ],
   "source": [
    "print(students[2:6:2])"
   ]
  },
  {
   "cell_type": "code",
   "execution_count": null,
   "id": "89735ee0",
   "metadata": {},
   "outputs": [],
   "source": []
  },
  {
   "cell_type": "code",
   "execution_count": null,
   "id": "7428b48f",
   "metadata": {},
   "outputs": [],
   "source": []
  },
  {
   "cell_type": "code",
   "execution_count": null,
   "id": "c9415799",
   "metadata": {},
   "outputs": [],
   "source": []
  },
  {
   "cell_type": "code",
   "execution_count": null,
   "id": "efdf8eaa",
   "metadata": {},
   "outputs": [],
   "source": []
  },
  {
   "cell_type": "code",
   "execution_count": null,
   "id": "8ae9d9b2",
   "metadata": {},
   "outputs": [],
   "source": []
  },
  {
   "cell_type": "code",
   "execution_count": null,
   "id": "6ea274e6",
   "metadata": {},
   "outputs": [],
   "source": []
  },
  {
   "cell_type": "code",
   "execution_count": null,
   "id": "8203af54",
   "metadata": {},
   "outputs": [],
   "source": []
  },
  {
   "cell_type": "code",
   "execution_count": null,
   "id": "25f7dcda",
   "metadata": {},
   "outputs": [],
   "source": []
  },
  {
   "cell_type": "code",
   "execution_count": null,
   "id": "8bf80f2a",
   "metadata": {},
   "outputs": [],
   "source": []
  }
 ],
 "metadata": {
  "kernelspec": {
   "display_name": "Python 3 (ipykernel)",
   "language": "python",
   "name": "python3"
  },
  "language_info": {
   "codemirror_mode": {
    "name": "ipython",
    "version": 3
   },
   "file_extension": ".py",
   "mimetype": "text/x-python",
   "name": "python",
   "nbconvert_exporter": "python",
   "pygments_lexer": "ipython3",
   "version": "3.10.9"
  }
 },
 "nbformat": 4,
 "nbformat_minor": 5
}
