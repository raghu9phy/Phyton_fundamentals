{
 "cells": [
  {
   "cell_type": "code",
   "execution_count": 4,
   "id": "58a040c0",
   "metadata": {},
   "outputs": [
    {
     "name": "stdout",
     "output_type": "stream",
     "text": [
      "raghunadhareddy\n"
     ]
    },
    {
     "ename": "NameError",
     "evalue": "name 'upper' is not defined",
     "output_type": "error",
     "traceback": [
      "\u001b[1;31m---------------------------------------------------------------------------\u001b[0m",
      "\u001b[1;31mNameError\u001b[0m                                 Traceback (most recent call last)",
      "Cell \u001b[1;32mIn[4], line 3\u001b[0m\n\u001b[0;32m      1\u001b[0m fullname\u001b[38;5;241m=\u001b[39m\u001b[38;5;124m\"\u001b[39m\u001b[38;5;124mraghunadhareddy\u001b[39m\u001b[38;5;124m\"\u001b[39m\n\u001b[0;32m      2\u001b[0m \u001b[38;5;28mprint\u001b[39m(fullname)\n\u001b[1;32m----> 3\u001b[0m \u001b[38;5;28mprint\u001b[39m(fullname,\u001b[43mupper\u001b[49m())\n",
      "\u001b[1;31mNameError\u001b[0m: name 'upper' is not defined"
     ]
    }
   ],
   "source": [
    "fullname=\"raghunadhareddy\"\n",
    "print(fullname)\n",
    "print(fullname,upper())"
   ]
  },
  {
   "cell_type": "code",
   "execution_count": 5,
   "id": "13071f27",
   "metadata": {},
   "outputs": [
    {
     "name": "stdout",
     "output_type": "stream",
     "text": [
      "RAGHUNADHAREDDY\n"
     ]
    }
   ],
   "source": [
    "print(fullname.upper())"
   ]
  },
  {
   "cell_type": "code",
   "execution_count": null,
   "id": "4f2aceea",
   "metadata": {},
   "outputs": [],
   "source": [
    "continution with sting datatypes\n"
   ]
  },
  {
   "cell_type": "code",
   "execution_count": null,
   "id": "015580be",
   "metadata": {},
   "outputs": [],
   "source": [
    "intraduction to f strings"
   ]
  },
  {
   "cell_type": "code",
   "execution_count": null,
   "id": "a3fd3524",
   "metadata": {},
   "outputs": [],
   "source": [
    "genral syntax for f strings"
   ]
  },
  {
   "cell_type": "code",
   "execution_count": null,
   "id": "8ece8a25",
   "metadata": {},
   "outputs": [],
   "source": [
    "f\"customwords {place holder1}{place holder 2}..........."
   ]
  },
  {
   "cell_type": "code",
   "execution_count": 6,
   "id": "0ff47856",
   "metadata": {},
   "outputs": [],
   "source": [
    "firstname='raghu'\n",
    "lastname='reddy'"
   ]
  },
  {
   "cell_type": "code",
   "execution_count": 11,
   "id": "348416bc",
   "metadata": {},
   "outputs": [],
   "source": [
    "fullname1 = f\"{firstname} {lastname}\""
   ]
  },
  {
   "cell_type": "code",
   "execution_count": 12,
   "id": "bb34bc14",
   "metadata": {},
   "outputs": [
    {
     "name": "stdout",
     "output_type": "stream",
     "text": [
      "raghu reddy\n"
     ]
    }
   ],
   "source": [
    "print(fullname1)"
   ]
  },
  {
   "cell_type": "code",
   "execution_count": 13,
   "id": "ce02901f",
   "metadata": {},
   "outputs": [
    {
     "name": "stdout",
     "output_type": "stream",
     "text": [
      "Raghu Reddy\n"
     ]
    }
   ],
   "source": [
    "print(fullname1.title())"
   ]
  },
  {
   "cell_type": "code",
   "execution_count": 15,
   "id": "c83baf6c",
   "metadata": {},
   "outputs": [
    {
     "name": "stdout",
     "output_type": "stream",
     "text": [
      "how are you,Raghu Reddy\n"
     ]
    }
   ],
   "source": [
    "message=f\"how are you,{fullname1.title()}\"\n",
    "print(message)"
   ]
  },
  {
   "cell_type": "code",
   "execution_count": null,
   "id": "cf1a3c88",
   "metadata": {},
   "outputs": [],
   "source": [
    "#Adding white spaces to strings"
   ]
  },
  {
   "cell_type": "code",
   "execution_count": null,
   "id": "8df7dd68",
   "metadata": {},
   "outputs": [],
   "source": [
    "\\n -------------New line delimiter"
   ]
  },
  {
   "cell_type": "code",
   "execution_count": 16,
   "id": "5068bbb5",
   "metadata": {},
   "outputs": [
    {
     "name": "stdout",
     "output_type": "stream",
     "text": [
      "favourite program\n",
      "\tphyton\n",
      "\tjava\n",
      "\tc==\n",
      "\tsiwft\n"
     ]
    }
   ],
   "source": [
    "print(\"favourite program\\n\\tphyton\\n\\tjava\\n\\tc==\\n\\tsiwft\")"
   ]
  },
  {
   "cell_type": "code",
   "execution_count": null,
   "id": "4e4f74ef",
   "metadata": {},
   "outputs": [],
   "source": []
  },
  {
   "cell_type": "code",
   "execution_count": null,
   "id": "b769a402",
   "metadata": {},
   "outputs": [],
   "source": [
    "#   removeing white spaces from strings\n"
   ]
  },
  {
   "cell_type": "code",
   "execution_count": 19,
   "id": "7c2c3657",
   "metadata": {},
   "outputs": [
    {
     "name": "stdout",
     "output_type": "stream",
     "text": [
      "         python\n"
     ]
    }
   ],
   "source": [
    "name='                  python'\n",
    "\n",
    "print(name)"
   ]
  },
  {
   "cell_type": "code",
   "execution_count": 21,
   "id": "916b913c",
   "metadata": {},
   "outputs": [
    {
     "data": {
      "text/plain": [
       "'python'"
      ]
     },
     "execution_count": 21,
     "metadata": {},
     "output_type": "execute_result"
    }
   ],
   "source": [
    "name.lstrip()"
   ]
  },
  {
   "cell_type": "code",
   "execution_count": 22,
   "id": "c244c8f9",
   "metadata": {},
   "outputs": [
    {
     "data": {
      "text/plain": [
       "'         python'"
      ]
     },
     "execution_count": 22,
     "metadata": {},
     "output_type": "execute_result"
    }
   ],
   "source": [
    "name.rstrip()"
   ]
  },
  {
   "cell_type": "code",
   "execution_count": 24,
   "id": "aae9c618",
   "metadata": {},
   "outputs": [],
   "source": [
    "name4=\"      sdsdsdsd sdsdsdsd      \""
   ]
  },
  {
   "cell_type": "code",
   "execution_count": 25,
   "id": "b6eae20a",
   "metadata": {},
   "outputs": [
    {
     "name": "stdout",
     "output_type": "stream",
     "text": [
      " sdsdsdsd sdsdsdsd      \n"
     ]
    }
   ],
   "source": [
    "print(name4)"
   ]
  },
  {
   "cell_type": "code",
   "execution_count": 27,
   "id": "969c2be8",
   "metadata": {},
   "outputs": [
    {
     "data": {
      "text/plain": [
       "'sdsdsdsd sdsdsdsd'"
      ]
     },
     "execution_count": 27,
     "metadata": {},
     "output_type": "execute_result"
    }
   ],
   "source": [
    "name4.strip()# search and delete"
   ]
  },
  {
   "cell_type": "code",
   "execution_count": 29,
   "id": "44756068",
   "metadata": {},
   "outputs": [
    {
     "name": "stdout",
     "output_type": "stream",
     "text": [
      "The Zen of Python, by Tim Peters\n",
      "\n",
      "Beautiful is better than ugly.\n",
      "Explicit is better than implicit.\n",
      "Simple is better than complex.\n",
      "Complex is better than complicated.\n",
      "Flat is better than nested.\n",
      "Sparse is better than dense.\n",
      "Readability counts.\n",
      "Special cases aren't special enough to break the rules.\n",
      "Although practicality beats purity.\n",
      "Errors should never pass silently.\n",
      "Unless explicitly silenced.\n",
      "In the face of ambiguity, refuse the temptation to guess.\n",
      "There should be one-- and preferably only one --obvious way to do it.\n",
      "Although that way may not be obvious at first unless you're Dutch.\n",
      "Now is better than never.\n",
      "Although never is often better than *right* now.\n",
      "If the implementation is hard to explain, it's a bad idea.\n",
      "If the implementation is easy to explain, it may be a good idea.\n",
      "Namespaces are one honking great idea -- let's do more of those!\n"
     ]
    }
   ],
   "source": [
    "import this"
   ]
  },
  {
   "cell_type": "code",
   "execution_count": null,
   "id": "0fe013e0",
   "metadata": {},
   "outputs": [],
   "source": []
  },
  {
   "cell_type": "code",
   "execution_count": null,
   "id": "686d85df",
   "metadata": {},
   "outputs": [],
   "source": []
  },
  {
   "cell_type": "code",
   "execution_count": null,
   "id": "50fc3d2a",
   "metadata": {},
   "outputs": [],
   "source": []
  },
  {
   "cell_type": "code",
   "execution_count": null,
   "id": "97828ca1",
   "metadata": {},
   "outputs": [],
   "source": []
  },
  {
   "cell_type": "code",
   "execution_count": null,
   "id": "82886011",
   "metadata": {},
   "outputs": [],
   "source": []
  },
  {
   "cell_type": "code",
   "execution_count": null,
   "id": "3a335767",
   "metadata": {},
   "outputs": [],
   "source": []
  },
  {
   "cell_type": "code",
   "execution_count": null,
   "id": "36c1fca4",
   "metadata": {},
   "outputs": [],
   "source": []
  },
  {
   "cell_type": "code",
   "execution_count": null,
   "id": "948ec2a1",
   "metadata": {},
   "outputs": [],
   "source": []
  },
  {
   "cell_type": "code",
   "execution_count": null,
   "id": "83242096",
   "metadata": {},
   "outputs": [],
   "source": []
  }
 ],
 "metadata": {
  "kernelspec": {
   "display_name": "Python 3 (ipykernel)",
   "language": "python",
   "name": "python3"
  },
  "language_info": {
   "codemirror_mode": {
    "name": "ipython",
    "version": 3
   },
   "file_extension": ".py",
   "mimetype": "text/x-python",
   "name": "python",
   "nbconvert_exporter": "python",
   "pygments_lexer": "ipython3",
   "version": "3.10.9"
  }
 },
 "nbformat": 4,
 "nbformat_minor": 5
}
